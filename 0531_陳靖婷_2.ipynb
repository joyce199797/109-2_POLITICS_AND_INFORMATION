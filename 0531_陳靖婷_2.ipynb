{
 "cells": [
  {
   "cell_type": "markdown",
   "metadata": {},
   "source": [
    "### Name :  5/31 作業 2\n",
    "### Function :  2. 將新聞資料使用NER跑看看"
   ]
  },
  {
   "cell_type": "markdown",
   "metadata": {},
   "source": [
    "#### 2. 將新聞資料使用NER跑看看，挑出蘋果日報的資料跑NER"
   ]
  },
  {
   "cell_type": "code",
   "execution_count": 1,
   "metadata": {},
   "outputs": [],
   "source": [
    "import tensorflow as tf\n",
    "import keras\n",
    "import pandas as pd\n",
    "import numpy as np\n",
    "import gc\n",
    "import math"
   ]
  },
  {
   "cell_type": "markdown",
   "metadata": {},
   "source": [
    "##  function Extract_NER():   Extract NER from receiving text list"
   ]
  },
  {
   "cell_type": "code",
   "execution_count": 3,
   "metadata": {},
   "outputs": [],
   "source": [
    "def Extract_NER(ls_textRow):\n",
    "    from ckiptagger import data_utils, construct_dictionary, WS, POS, NER\n",
    "    \n",
    "    # 載入 自訂詞典\n",
    "    User_Dict = {}\n",
    "    with open(\"KCC Data/Dict/KccDict2020.txt\",\"r\", encoding='utf-8-sig') as UDicts:\n",
    "        for udic in UDicts:\n",
    "            udWord = udic.strip().split(\" \")\n",
    "            if len(udWord) > 1:\n",
    "                User_Dict[udWord[0]] = udWord[1]\n",
    "            else:\n",
    "                User_Dict[udWord[0]] = 10    # 未給定權重者一律賦予預設值 10                \n",
    "    dictionary = construct_dictionary(User_Dict)\n",
    " \n",
    "    ws = WS(\"./data\")\n",
    "    pos = POS(\"./data\")\n",
    "    ner = NER(\"./data\")\n",
    "    \n",
    "    #  ls_segRow = ws(ls_textRow) ------------   without User Dictionary\n",
    "    ls_segRow = ws(ls_textRow, \n",
    "                   sentence_segmentation=True,\n",
    "                   segment_delimiter_set = {\",\", \"。\", \":\", \"?\", \"!\", \";\", \"、\"},\n",
    "                   coerce_dictionary = dictionary)\n",
    "    #print(\"ls_segRow = \", ls_segRow)\n",
    "    #print(\"-----------------------------\")\n",
    "    \n",
    "    del ws\n",
    "    del WS\n",
    "    gc.collect()\n",
    "    ls_posRow = pos(ls_segRow)\n",
    "    del pos\n",
    "    del POS\n",
    "    gc.collect()\n",
    "    ls_nerRow = ner(ls_segRow,ls_posRow)\n",
    "    del ner\n",
    "    del NER\n",
    "    gc.collect()\n",
    "    #print(\"ls_nerRow = \", ls_nerRow)\n",
    "    #print(\"-----------------------------\")\n",
    "    return ls_nerRow"
   ]
  },
  {
   "cell_type": "markdown",
   "metadata": {},
   "source": [
    "## 1. Read data from csv or xlsx file"
   ]
  },
  {
   "cell_type": "code",
   "execution_count": 4,
   "metadata": {},
   "outputs": [
    {
     "name": "stdout",
     "output_type": "stream",
     "text": [
      "Index(['序號', '日期', '報別', '內容'], dtype='object')\n",
      "-----------------------------------------------------------\n"
     ]
    },
    {
     "data": {
      "text/html": [
       "<div>\n",
       "<style scoped>\n",
       "    .dataframe tbody tr th:only-of-type {\n",
       "        vertical-align: middle;\n",
       "    }\n",
       "\n",
       "    .dataframe tbody tr th {\n",
       "        vertical-align: top;\n",
       "    }\n",
       "\n",
       "    .dataframe thead th {\n",
       "        text-align: right;\n",
       "    }\n",
       "</style>\n",
       "<table border=\"1\" class=\"dataframe\">\n",
       "  <thead>\n",
       "    <tr style=\"text-align: right;\">\n",
       "      <th></th>\n",
       "      <th>序號</th>\n",
       "      <th>日期</th>\n",
       "      <th>報別</th>\n",
       "      <th>內容</th>\n",
       "    </tr>\n",
       "  </thead>\n",
       "  <tbody>\n",
       "    <tr>\n",
       "      <th>0</th>\n",
       "      <td>1</td>\n",
       "      <td>2016/4/18</td>\n",
       "      <td>臺灣時報</td>\n",
       "      <td>馬英九總統昨天上午視察衛武營藝術文化中心，文化部長洪孟啟、工程會副主委顏久榮及高雄市副市長吳...</td>\n",
       "    </tr>\n",
       "    <tr>\n",
       "      <th>1</th>\n",
       "      <td>2</td>\n",
       "      <td>2016/4/18</td>\n",
       "      <td>臺灣時報</td>\n",
       "      <td>日本九州熊本縣接連遭強震襲擊，台灣分別捐贈熊本縣政府和日本政府款項，高雄市長陳菊、台南市 ...</td>\n",
       "    </tr>\n",
       "    <tr>\n",
       "      <th>2</th>\n",
       "      <td>3</td>\n",
       "      <td>2016/4/18</td>\n",
       "      <td>臺灣時報</td>\n",
       "      <td>壽山動物園為增進動物飼養福祉及保育工作，特設立「高雄市壽山動物園認養辦法」設立動物認養專戶...</td>\n",
       "    </tr>\n",
       "  </tbody>\n",
       "</table>\n",
       "</div>"
      ],
      "text/plain": [
       "   序號         日期    報別                                                 內容\n",
       "0   1  2016/4/18  臺灣時報  馬英九總統昨天上午視察衛武營藝術文化中心，文化部長洪孟啟、工程會副主委顏久榮及高雄市副市長吳...\n",
       "1   2  2016/4/18  臺灣時報  　日本九州熊本縣接連遭強震襲擊，台灣分別捐贈熊本縣政府和日本政府款項，高雄市長陳菊、台南市 ...\n",
       "2   3  2016/4/18  臺灣時報  　壽山動物園為增進動物飼養福祉及保育工作，特設立「高雄市壽山動物園認養辦法」設立動物認養專戶..."
      ]
     },
     "execution_count": 4,
     "metadata": {},
     "output_type": "execute_result"
    }
   ],
   "source": [
    "#讀檔\n",
    "\n",
    "df_file = pd.read_csv(r\"KCC Data/all-news(11554).csv\")\n",
    "print(df_file.columns)\n",
    "print(\"-----------------------------------------------------------\")\n",
    "df_file.head(3)"
   ]
  },
  {
   "cell_type": "code",
   "execution_count": 6,
   "metadata": {},
   "outputs": [
    {
     "data": {
      "text/html": [
       "<div>\n",
       "<style scoped>\n",
       "    .dataframe tbody tr th:only-of-type {\n",
       "        vertical-align: middle;\n",
       "    }\n",
       "\n",
       "    .dataframe tbody tr th {\n",
       "        vertical-align: top;\n",
       "    }\n",
       "\n",
       "    .dataframe thead th {\n",
       "        text-align: right;\n",
       "    }\n",
       "</style>\n",
       "<table border=\"1\" class=\"dataframe\">\n",
       "  <thead>\n",
       "    <tr style=\"text-align: right;\">\n",
       "      <th></th>\n",
       "      <th>序號</th>\n",
       "      <th>日期</th>\n",
       "      <th>報別</th>\n",
       "      <th>內容</th>\n",
       "    </tr>\n",
       "  </thead>\n",
       "  <tbody>\n",
       "    <tr>\n",
       "      <th>10485</th>\n",
       "      <td>10486</td>\n",
       "      <td>2010/12/26</td>\n",
       "      <td>蘋果日報</td>\n",
       "      <td>高雄市議會正副議長選舉，昨經過近3小時投票，國民黨籍許崑源以3票氣走民進黨的康裕成，拿下議長...</td>\n",
       "    </tr>\n",
       "    <tr>\n",
       "      <th>10486</th>\n",
       "      <td>10487</td>\n",
       "      <td>2011/1/3</td>\n",
       "      <td>蘋果日報</td>\n",
       "      <td>五都議長選舉結果日前出爐，個人財產也首度曝光。根據縣市議員最近一次、前年年底向監察院申報的財...</td>\n",
       "    </tr>\n",
       "    <tr>\n",
       "      <th>10487</th>\n",
       "      <td>10488</td>\n",
       "      <td>2011/1/1</td>\n",
       "      <td>蘋果日報</td>\n",
       "      <td>高雄地檢署偵辦五都三合一選舉賄選案，昨對7名涉賄選的市議員、25名里長當選人提起當選無效之訴...</td>\n",
       "    </tr>\n",
       "    <tr>\n",
       "      <th>10488</th>\n",
       "      <td>10489</td>\n",
       "      <td>2011/1/11</td>\n",
       "      <td>蘋果日報</td>\n",
       "      <td>高雄縣市合併已兩周，高雄市行政系統卻還很混亂，就業服務在高市出現中央與地方兩制，讓民眾霧煞煞...</td>\n",
       "    </tr>\n",
       "    <tr>\n",
       "      <th>10489</th>\n",
       "      <td>10490</td>\n",
       "      <td>2011/1/12</td>\n",
       "      <td>蘋果日報</td>\n",
       "      <td>高雄縣市合併後老人福利也受影響，約有一千多名中低收入的生活津貼縮水，從月領六千元減為三千元；...</td>\n",
       "    </tr>\n",
       "    <tr>\n",
       "      <th>...</th>\n",
       "      <td>...</td>\n",
       "      <td>...</td>\n",
       "      <td>...</td>\n",
       "      <td>...</td>\n",
       "    </tr>\n",
       "    <tr>\n",
       "      <th>10968</th>\n",
       "      <td>10969</td>\n",
       "      <td>2014/10/5</td>\n",
       "      <td>蘋果日報</td>\n",
       "      <td>貝里斯籍油輪「盛昌號」擱淺旗津海岸2個多月，竟成戲水客的海上樂園。《蘋果》近日直擊遊客游上傾...</td>\n",
       "    </tr>\n",
       "    <tr>\n",
       "      <th>10969</th>\n",
       "      <td>10970</td>\n",
       "      <td>2014/10/10</td>\n",
       "      <td>蘋果日報</td>\n",
       "      <td>高雄市長選情 馬英九總統前天在國民黨中常會為拉抬楊秋興選情，批高雄市長陳菊施政不用心，並引用...</td>\n",
       "    </tr>\n",
       "    <tr>\n",
       "      <th>10970</th>\n",
       "      <td>10971</td>\n",
       "      <td>2014/10/11</td>\n",
       "      <td>蘋果日報</td>\n",
       "      <td>為拉抬國民黨高雄巿長參選人楊秋興選情，馬英九總統日前批陳菊巿政不用心，巿民平均餘命短；高雄綠...</td>\n",
       "    </tr>\n",
       "    <tr>\n",
       "      <th>10971</th>\n",
       "      <td>10972</td>\n",
       "      <td>2014/10/20</td>\n",
       "      <td>蘋果日報</td>\n",
       "      <td>偷吃泡麵，竟要賠上千元！收容法院轉介青少年的高雄市慈暉關懷學園，今年八月發現兩名學員偷竊泡麵...</td>\n",
       "    </tr>\n",
       "    <tr>\n",
       "      <th>10972</th>\n",
       "      <td>10973</td>\n",
       "      <td>2014/10/19</td>\n",
       "      <td>蘋果日報</td>\n",
       "      <td>高雄市長選情 藍綠大拼場！競選連任的高雄市長陳菊及捲土重來的前高雄縣長楊秋興，昨分別成立競選...</td>\n",
       "    </tr>\n",
       "  </tbody>\n",
       "</table>\n",
       "<p>488 rows × 4 columns</p>\n",
       "</div>"
      ],
      "text/plain": [
       "          序號          日期    報別  \\\n",
       "10485  10486  2010/12/26  蘋果日報   \n",
       "10486  10487    2011/1/3  蘋果日報   \n",
       "10487  10488    2011/1/1  蘋果日報   \n",
       "10488  10489   2011/1/11  蘋果日報   \n",
       "10489  10490   2011/1/12  蘋果日報   \n",
       "...      ...         ...   ...   \n",
       "10968  10969   2014/10/5  蘋果日報   \n",
       "10969  10970  2014/10/10  蘋果日報   \n",
       "10970  10971  2014/10/11  蘋果日報   \n",
       "10971  10972  2014/10/20  蘋果日報   \n",
       "10972  10973  2014/10/19  蘋果日報   \n",
       "\n",
       "                                                      內容  \n",
       "10485  高雄市議會正副議長選舉，昨經過近3小時投票，國民黨籍許崑源以3票氣走民進黨的康裕成，拿下議長...  \n",
       "10486  五都議長選舉結果日前出爐，個人財產也首度曝光。根據縣市議員最近一次、前年年底向監察院申報的財...  \n",
       "10487  高雄地檢署偵辦五都三合一選舉賄選案，昨對7名涉賄選的市議員、25名里長當選人提起當選無效之訴...  \n",
       "10488  高雄縣市合併已兩周，高雄市行政系統卻還很混亂，就業服務在高市出現中央與地方兩制，讓民眾霧煞煞...  \n",
       "10489  高雄縣市合併後老人福利也受影響，約有一千多名中低收入的生活津貼縮水，從月領六千元減為三千元；...  \n",
       "...                                                  ...  \n",
       "10968  貝里斯籍油輪「盛昌號」擱淺旗津海岸2個多月，竟成戲水客的海上樂園。《蘋果》近日直擊遊客游上傾...  \n",
       "10969  高雄市長選情 馬英九總統前天在國民黨中常會為拉抬楊秋興選情，批高雄市長陳菊施政不用心，並引用...  \n",
       "10970  為拉抬國民黨高雄巿長參選人楊秋興選情，馬英九總統日前批陳菊巿政不用心，巿民平均餘命短；高雄綠...  \n",
       "10971  偷吃泡麵，竟要賠上千元！收容法院轉介青少年的高雄市慈暉關懷學園，今年八月發現兩名學員偷竊泡麵...  \n",
       "10972  高雄市長選情 藍綠大拼場！競選連任的高雄市長陳菊及捲土重來的前高雄縣長楊秋興，昨分別成立競選...  \n",
       "\n",
       "[488 rows x 4 columns]"
      ]
     },
     "execution_count": 6,
     "metadata": {},
     "output_type": "execute_result"
    }
   ],
   "source": [
    "apple = df_file[df_file.報別 == \"蘋果日報\"]\n",
    "apple"
   ]
  },
  {
   "cell_type": "code",
   "execution_count": 10,
   "metadata": {},
   "outputs": [
    {
     "data": {
      "text/html": [
       "<div>\n",
       "<style scoped>\n",
       "    .dataframe tbody tr th:only-of-type {\n",
       "        vertical-align: middle;\n",
       "    }\n",
       "\n",
       "    .dataframe tbody tr th {\n",
       "        vertical-align: top;\n",
       "    }\n",
       "\n",
       "    .dataframe thead th {\n",
       "        text-align: right;\n",
       "    }\n",
       "</style>\n",
       "<table border=\"1\" class=\"dataframe\">\n",
       "  <thead>\n",
       "    <tr style=\"text-align: right;\">\n",
       "      <th></th>\n",
       "      <th>level_0</th>\n",
       "      <th>index</th>\n",
       "      <th>序號</th>\n",
       "      <th>日期</th>\n",
       "      <th>報別</th>\n",
       "      <th>內容</th>\n",
       "    </tr>\n",
       "  </thead>\n",
       "  <tbody>\n",
       "    <tr>\n",
       "      <th>0</th>\n",
       "      <td>0</td>\n",
       "      <td>10485</td>\n",
       "      <td>10486</td>\n",
       "      <td>2010/12/26</td>\n",
       "      <td>蘋果日報</td>\n",
       "      <td>高雄市議會正副議長選舉，昨經過近3小時投票，國民黨籍許崑源以3票氣走民進黨的康裕成，拿下議長...</td>\n",
       "    </tr>\n",
       "    <tr>\n",
       "      <th>1</th>\n",
       "      <td>1</td>\n",
       "      <td>10486</td>\n",
       "      <td>10487</td>\n",
       "      <td>2011/1/3</td>\n",
       "      <td>蘋果日報</td>\n",
       "      <td>五都議長選舉結果日前出爐，個人財產也首度曝光。根據縣市議員最近一次、前年年底向監察院申報的財...</td>\n",
       "    </tr>\n",
       "    <tr>\n",
       "      <th>2</th>\n",
       "      <td>2</td>\n",
       "      <td>10487</td>\n",
       "      <td>10488</td>\n",
       "      <td>2011/1/1</td>\n",
       "      <td>蘋果日報</td>\n",
       "      <td>高雄地檢署偵辦五都三合一選舉賄選案，昨對7名涉賄選的市議員、25名里長當選人提起當選無效之訴...</td>\n",
       "    </tr>\n",
       "    <tr>\n",
       "      <th>3</th>\n",
       "      <td>3</td>\n",
       "      <td>10488</td>\n",
       "      <td>10489</td>\n",
       "      <td>2011/1/11</td>\n",
       "      <td>蘋果日報</td>\n",
       "      <td>高雄縣市合併已兩周，高雄市行政系統卻還很混亂，就業服務在高市出現中央與地方兩制，讓民眾霧煞煞...</td>\n",
       "    </tr>\n",
       "    <tr>\n",
       "      <th>4</th>\n",
       "      <td>4</td>\n",
       "      <td>10489</td>\n",
       "      <td>10490</td>\n",
       "      <td>2011/1/12</td>\n",
       "      <td>蘋果日報</td>\n",
       "      <td>高雄縣市合併後老人福利也受影響，約有一千多名中低收入的生活津貼縮水，從月領六千元減為三千元；...</td>\n",
       "    </tr>\n",
       "    <tr>\n",
       "      <th>...</th>\n",
       "      <td>...</td>\n",
       "      <td>...</td>\n",
       "      <td>...</td>\n",
       "      <td>...</td>\n",
       "      <td>...</td>\n",
       "      <td>...</td>\n",
       "    </tr>\n",
       "    <tr>\n",
       "      <th>483</th>\n",
       "      <td>483</td>\n",
       "      <td>10968</td>\n",
       "      <td>10969</td>\n",
       "      <td>2014/10/5</td>\n",
       "      <td>蘋果日報</td>\n",
       "      <td>貝里斯籍油輪「盛昌號」擱淺旗津海岸2個多月，竟成戲水客的海上樂園。《蘋果》近日直擊遊客游上傾...</td>\n",
       "    </tr>\n",
       "    <tr>\n",
       "      <th>484</th>\n",
       "      <td>484</td>\n",
       "      <td>10969</td>\n",
       "      <td>10970</td>\n",
       "      <td>2014/10/10</td>\n",
       "      <td>蘋果日報</td>\n",
       "      <td>高雄市長選情 馬英九總統前天在國民黨中常會為拉抬楊秋興選情，批高雄市長陳菊施政不用心，並引用...</td>\n",
       "    </tr>\n",
       "    <tr>\n",
       "      <th>485</th>\n",
       "      <td>485</td>\n",
       "      <td>10970</td>\n",
       "      <td>10971</td>\n",
       "      <td>2014/10/11</td>\n",
       "      <td>蘋果日報</td>\n",
       "      <td>為拉抬國民黨高雄巿長參選人楊秋興選情，馬英九總統日前批陳菊巿政不用心，巿民平均餘命短；高雄綠...</td>\n",
       "    </tr>\n",
       "    <tr>\n",
       "      <th>486</th>\n",
       "      <td>486</td>\n",
       "      <td>10971</td>\n",
       "      <td>10972</td>\n",
       "      <td>2014/10/20</td>\n",
       "      <td>蘋果日報</td>\n",
       "      <td>偷吃泡麵，竟要賠上千元！收容法院轉介青少年的高雄市慈暉關懷學園，今年八月發現兩名學員偷竊泡麵...</td>\n",
       "    </tr>\n",
       "    <tr>\n",
       "      <th>487</th>\n",
       "      <td>487</td>\n",
       "      <td>10972</td>\n",
       "      <td>10973</td>\n",
       "      <td>2014/10/19</td>\n",
       "      <td>蘋果日報</td>\n",
       "      <td>高雄市長選情 藍綠大拼場！競選連任的高雄市長陳菊及捲土重來的前高雄縣長楊秋興，昨分別成立競選...</td>\n",
       "    </tr>\n",
       "  </tbody>\n",
       "</table>\n",
       "<p>488 rows × 6 columns</p>\n",
       "</div>"
      ],
      "text/plain": [
       "     level_0  index     序號          日期    報別  \\\n",
       "0          0  10485  10486  2010/12/26  蘋果日報   \n",
       "1          1  10486  10487    2011/1/3  蘋果日報   \n",
       "2          2  10487  10488    2011/1/1  蘋果日報   \n",
       "3          3  10488  10489   2011/1/11  蘋果日報   \n",
       "4          4  10489  10490   2011/1/12  蘋果日報   \n",
       "..       ...    ...    ...         ...   ...   \n",
       "483      483  10968  10969   2014/10/5  蘋果日報   \n",
       "484      484  10969  10970  2014/10/10  蘋果日報   \n",
       "485      485  10970  10971  2014/10/11  蘋果日報   \n",
       "486      486  10971  10972  2014/10/20  蘋果日報   \n",
       "487      487  10972  10973  2014/10/19  蘋果日報   \n",
       "\n",
       "                                                    內容  \n",
       "0    高雄市議會正副議長選舉，昨經過近3小時投票，國民黨籍許崑源以3票氣走民進黨的康裕成，拿下議長...  \n",
       "1    五都議長選舉結果日前出爐，個人財產也首度曝光。根據縣市議員最近一次、前年年底向監察院申報的財...  \n",
       "2    高雄地檢署偵辦五都三合一選舉賄選案，昨對7名涉賄選的市議員、25名里長當選人提起當選無效之訴...  \n",
       "3    高雄縣市合併已兩周，高雄市行政系統卻還很混亂，就業服務在高市出現中央與地方兩制，讓民眾霧煞煞...  \n",
       "4    高雄縣市合併後老人福利也受影響，約有一千多名中低收入的生活津貼縮水，從月領六千元減為三千元；...  \n",
       "..                                                 ...  \n",
       "483  貝里斯籍油輪「盛昌號」擱淺旗津海岸2個多月，竟成戲水客的海上樂園。《蘋果》近日直擊遊客游上傾...  \n",
       "484  高雄市長選情 馬英九總統前天在國民黨中常會為拉抬楊秋興選情，批高雄市長陳菊施政不用心，並引用...  \n",
       "485  為拉抬國民黨高雄巿長參選人楊秋興選情，馬英九總統日前批陳菊巿政不用心，巿民平均餘命短；高雄綠...  \n",
       "486  偷吃泡麵，竟要賠上千元！收容法院轉介青少年的高雄市慈暉關懷學園，今年八月發現兩名學員偷竊泡麵...  \n",
       "487  高雄市長選情 藍綠大拼場！競選連任的高雄市長陳菊及捲土重來的前高雄縣長楊秋興，昨分別成立競選...  \n",
       "\n",
       "[488 rows x 6 columns]"
      ]
     },
     "execution_count": 10,
     "metadata": {},
     "output_type": "execute_result"
    }
   ],
   "source": [
    "apple.reset_index(inplace=True)\n",
    "apple"
   ]
  },
  {
   "cell_type": "markdown",
   "metadata": {},
   "source": [
    "## 2.  Main function:\n",
    "### 2.1  Pass text data to function \"Extract_NER\" by row\n",
    "### 2.2  Integrate every 10 NER return rows into one data frame  \n",
    "### 2.3  Write frame into small csv after droping duplicate, locating class, filtering short NER, sorting by class.. "
   ]
  },
  {
   "cell_type": "code",
   "execution_count": 13,
   "metadata": {},
   "outputs": [
    {
     "name": "stdout",
     "output_type": "stream",
     "text": [
      "內容 欄位筆數 =  488\n",
      "------------------------------------------\n",
      "Row No =  0\n"
     ]
    },
    {
     "name": "stderr",
     "output_type": "stream",
     "text": [
      "C:\\Users\\CHING TING\\anaconda3\\lib\\site-packages\\tensorflow\\python\\keras\\layers\\legacy_rnn\\rnn_cell_impl.py:909: UserWarning: `tf.nn.rnn_cell.LSTMCell` is deprecated and will be removed in a future version. This class is equivalent as `tf.keras.layers.LSTMCell`, and will be replaced by that in Tensorflow 2.0.\n",
      "  warnings.warn(\"`tf.nn.rnn_cell.LSTMCell` is deprecated and will be \"\n",
      "C:\\Users\\CHING TING\\anaconda3\\lib\\site-packages\\tensorflow\\python\\keras\\engine\\base_layer_v1.py:1700: UserWarning: `layer.add_variable` is deprecated and will be removed in a future version. Please use `layer.add_weight` method instead.\n",
      "  warnings.warn('`layer.add_variable` is deprecated and '\n"
     ]
    },
    {
     "name": "stdout",
     "output_type": "stream",
     "text": [
      "Row No =  1\n",
      "Row No =  2\n",
      "Row No =  3\n",
      "Row No =  4\n",
      "Row No =  5\n",
      "Row No =  6\n",
      "Row No =  7\n",
      "Row No =  8\n",
      "Row No =  9\n",
      "fileCunt No =  1\n",
      "Row No =  10\n"
     ]
    },
    {
     "name": "stderr",
     "output_type": "stream",
     "text": [
      "C:\\Users\\CHING TING\\anaconda3\\lib\\site-packages\\tensorflow\\python\\keras\\layers\\legacy_rnn\\rnn_cell_impl.py:909: UserWarning: `tf.nn.rnn_cell.LSTMCell` is deprecated and will be removed in a future version. This class is equivalent as `tf.keras.layers.LSTMCell`, and will be replaced by that in Tensorflow 2.0.\n",
      "  warnings.warn(\"`tf.nn.rnn_cell.LSTMCell` is deprecated and will be \"\n",
      "C:\\Users\\CHING TING\\anaconda3\\lib\\site-packages\\tensorflow\\python\\keras\\engine\\base_layer_v1.py:1700: UserWarning: `layer.add_variable` is deprecated and will be removed in a future version. Please use `layer.add_weight` method instead.\n",
      "  warnings.warn('`layer.add_variable` is deprecated and '\n"
     ]
    },
    {
     "name": "stdout",
     "output_type": "stream",
     "text": [
      "Row No =  11\n",
      "Row No =  12\n",
      "Row No =  13\n",
      "Row No =  14\n",
      "Row No =  15\n",
      "Row No =  16\n",
      "Row No =  17\n",
      "Row No =  18\n",
      "Row No =  19\n",
      "fileCunt No =  2\n",
      "Row No =  20\n"
     ]
    },
    {
     "name": "stderr",
     "output_type": "stream",
     "text": [
      "C:\\Users\\CHING TING\\anaconda3\\lib\\site-packages\\tensorflow\\python\\keras\\layers\\legacy_rnn\\rnn_cell_impl.py:909: UserWarning: `tf.nn.rnn_cell.LSTMCell` is deprecated and will be removed in a future version. This class is equivalent as `tf.keras.layers.LSTMCell`, and will be replaced by that in Tensorflow 2.0.\n",
      "  warnings.warn(\"`tf.nn.rnn_cell.LSTMCell` is deprecated and will be \"\n",
      "C:\\Users\\CHING TING\\anaconda3\\lib\\site-packages\\tensorflow\\python\\keras\\engine\\base_layer_v1.py:1700: UserWarning: `layer.add_variable` is deprecated and will be removed in a future version. Please use `layer.add_weight` method instead.\n",
      "  warnings.warn('`layer.add_variable` is deprecated and '\n"
     ]
    },
    {
     "name": "stdout",
     "output_type": "stream",
     "text": [
      "Row No =  21\n",
      "Row No =  22\n",
      "Row No =  23\n",
      "Row No =  24\n",
      "Row No =  25\n",
      "Row No =  26\n",
      "Row No =  27\n",
      "Row No =  28\n",
      "Row No =  29\n",
      "fileCunt No =  3\n",
      "Row No =  30\n"
     ]
    },
    {
     "name": "stderr",
     "output_type": "stream",
     "text": [
      "C:\\Users\\CHING TING\\anaconda3\\lib\\site-packages\\tensorflow\\python\\keras\\layers\\legacy_rnn\\rnn_cell_impl.py:909: UserWarning: `tf.nn.rnn_cell.LSTMCell` is deprecated and will be removed in a future version. This class is equivalent as `tf.keras.layers.LSTMCell`, and will be replaced by that in Tensorflow 2.0.\n",
      "  warnings.warn(\"`tf.nn.rnn_cell.LSTMCell` is deprecated and will be \"\n",
      "C:\\Users\\CHING TING\\anaconda3\\lib\\site-packages\\tensorflow\\python\\keras\\engine\\base_layer_v1.py:1700: UserWarning: `layer.add_variable` is deprecated and will be removed in a future version. Please use `layer.add_weight` method instead.\n",
      "  warnings.warn('`layer.add_variable` is deprecated and '\n"
     ]
    },
    {
     "name": "stdout",
     "output_type": "stream",
     "text": [
      "Row No =  31\n",
      "Row No =  32\n",
      "Row No =  33\n",
      "Row No =  34\n",
      "Row No =  35\n",
      "Row No =  36\n",
      "Row No =  37\n",
      "Row No =  38\n",
      "Row No =  39\n",
      "fileCunt No =  4\n",
      "Row No =  40\n"
     ]
    },
    {
     "name": "stderr",
     "output_type": "stream",
     "text": [
      "C:\\Users\\CHING TING\\anaconda3\\lib\\site-packages\\tensorflow\\python\\keras\\layers\\legacy_rnn\\rnn_cell_impl.py:909: UserWarning: `tf.nn.rnn_cell.LSTMCell` is deprecated and will be removed in a future version. This class is equivalent as `tf.keras.layers.LSTMCell`, and will be replaced by that in Tensorflow 2.0.\n",
      "  warnings.warn(\"`tf.nn.rnn_cell.LSTMCell` is deprecated and will be \"\n",
      "C:\\Users\\CHING TING\\anaconda3\\lib\\site-packages\\tensorflow\\python\\keras\\engine\\base_layer_v1.py:1700: UserWarning: `layer.add_variable` is deprecated and will be removed in a future version. Please use `layer.add_weight` method instead.\n",
      "  warnings.warn('`layer.add_variable` is deprecated and '\n"
     ]
    },
    {
     "name": "stdout",
     "output_type": "stream",
     "text": [
      "Row No =  41\n",
      "Row No =  42\n",
      "Row No =  43\n",
      "Row No =  44\n",
      "Row No =  45\n",
      "Row No =  46\n",
      "Row No =  47\n",
      "Row No =  48\n",
      "Row No =  49\n",
      "fileCunt No =  5\n",
      "Row No =  50\n"
     ]
    },
    {
     "name": "stderr",
     "output_type": "stream",
     "text": [
      "C:\\Users\\CHING TING\\anaconda3\\lib\\site-packages\\tensorflow\\python\\keras\\layers\\legacy_rnn\\rnn_cell_impl.py:909: UserWarning: `tf.nn.rnn_cell.LSTMCell` is deprecated and will be removed in a future version. This class is equivalent as `tf.keras.layers.LSTMCell`, and will be replaced by that in Tensorflow 2.0.\n",
      "  warnings.warn(\"`tf.nn.rnn_cell.LSTMCell` is deprecated and will be \"\n",
      "C:\\Users\\CHING TING\\anaconda3\\lib\\site-packages\\tensorflow\\python\\keras\\engine\\base_layer_v1.py:1700: UserWarning: `layer.add_variable` is deprecated and will be removed in a future version. Please use `layer.add_weight` method instead.\n",
      "  warnings.warn('`layer.add_variable` is deprecated and '\n"
     ]
    },
    {
     "name": "stdout",
     "output_type": "stream",
     "text": [
      "Row No =  51\n",
      "Row No =  52\n",
      "Row No =  53\n",
      "Row No =  54\n",
      "Row No =  55\n",
      "Row No =  56\n",
      "Row No =  57\n",
      "Row No =  58\n",
      "Row No =  59\n",
      "fileCunt No =  6\n",
      "Row No =  60\n"
     ]
    },
    {
     "name": "stderr",
     "output_type": "stream",
     "text": [
      "C:\\Users\\CHING TING\\anaconda3\\lib\\site-packages\\tensorflow\\python\\keras\\layers\\legacy_rnn\\rnn_cell_impl.py:909: UserWarning: `tf.nn.rnn_cell.LSTMCell` is deprecated and will be removed in a future version. This class is equivalent as `tf.keras.layers.LSTMCell`, and will be replaced by that in Tensorflow 2.0.\n",
      "  warnings.warn(\"`tf.nn.rnn_cell.LSTMCell` is deprecated and will be \"\n",
      "C:\\Users\\CHING TING\\anaconda3\\lib\\site-packages\\tensorflow\\python\\keras\\engine\\base_layer_v1.py:1700: UserWarning: `layer.add_variable` is deprecated and will be removed in a future version. Please use `layer.add_weight` method instead.\n",
      "  warnings.warn('`layer.add_variable` is deprecated and '\n"
     ]
    },
    {
     "name": "stdout",
     "output_type": "stream",
     "text": [
      "Row No =  61\n",
      "Row No =  62\n",
      "Row No =  63\n",
      "Row No =  64\n",
      "Row No =  65\n",
      "Row No =  66\n",
      "Row No =  67\n",
      "Row No =  68\n",
      "Row No =  69\n",
      "fileCunt No =  7\n",
      "Row No =  70\n"
     ]
    },
    {
     "name": "stderr",
     "output_type": "stream",
     "text": [
      "C:\\Users\\CHING TING\\anaconda3\\lib\\site-packages\\tensorflow\\python\\keras\\layers\\legacy_rnn\\rnn_cell_impl.py:909: UserWarning: `tf.nn.rnn_cell.LSTMCell` is deprecated and will be removed in a future version. This class is equivalent as `tf.keras.layers.LSTMCell`, and will be replaced by that in Tensorflow 2.0.\n",
      "  warnings.warn(\"`tf.nn.rnn_cell.LSTMCell` is deprecated and will be \"\n",
      "C:\\Users\\CHING TING\\anaconda3\\lib\\site-packages\\tensorflow\\python\\keras\\engine\\base_layer_v1.py:1700: UserWarning: `layer.add_variable` is deprecated and will be removed in a future version. Please use `layer.add_weight` method instead.\n",
      "  warnings.warn('`layer.add_variable` is deprecated and '\n"
     ]
    },
    {
     "name": "stdout",
     "output_type": "stream",
     "text": [
      "Row No =  71\n",
      "Row No =  72\n",
      "Row No =  73\n",
      "Row No =  74\n",
      "Row No =  75\n",
      "Row No =  76\n",
      "Row No =  77\n",
      "Row No =  78\n",
      "Row No =  79\n",
      "fileCunt No =  8\n",
      "Row No =  80\n"
     ]
    },
    {
     "name": "stderr",
     "output_type": "stream",
     "text": [
      "C:\\Users\\CHING TING\\anaconda3\\lib\\site-packages\\tensorflow\\python\\keras\\layers\\legacy_rnn\\rnn_cell_impl.py:909: UserWarning: `tf.nn.rnn_cell.LSTMCell` is deprecated and will be removed in a future version. This class is equivalent as `tf.keras.layers.LSTMCell`, and will be replaced by that in Tensorflow 2.0.\n",
      "  warnings.warn(\"`tf.nn.rnn_cell.LSTMCell` is deprecated and will be \"\n",
      "C:\\Users\\CHING TING\\anaconda3\\lib\\site-packages\\tensorflow\\python\\keras\\engine\\base_layer_v1.py:1700: UserWarning: `layer.add_variable` is deprecated and will be removed in a future version. Please use `layer.add_weight` method instead.\n",
      "  warnings.warn('`layer.add_variable` is deprecated and '\n"
     ]
    },
    {
     "name": "stdout",
     "output_type": "stream",
     "text": [
      "Row No =  81\n",
      "Row No =  82\n",
      "Row No =  83\n",
      "Row No =  84\n",
      "Row No =  85\n",
      "Row No =  86\n",
      "Row No =  87\n",
      "Row No =  88\n",
      "Row No =  89\n",
      "fileCunt No =  9\n",
      "Row No =  90\n"
     ]
    },
    {
     "name": "stderr",
     "output_type": "stream",
     "text": [
      "C:\\Users\\CHING TING\\anaconda3\\lib\\site-packages\\tensorflow\\python\\keras\\layers\\legacy_rnn\\rnn_cell_impl.py:909: UserWarning: `tf.nn.rnn_cell.LSTMCell` is deprecated and will be removed in a future version. This class is equivalent as `tf.keras.layers.LSTMCell`, and will be replaced by that in Tensorflow 2.0.\n",
      "  warnings.warn(\"`tf.nn.rnn_cell.LSTMCell` is deprecated and will be \"\n",
      "C:\\Users\\CHING TING\\anaconda3\\lib\\site-packages\\tensorflow\\python\\keras\\engine\\base_layer_v1.py:1700: UserWarning: `layer.add_variable` is deprecated and will be removed in a future version. Please use `layer.add_weight` method instead.\n",
      "  warnings.warn('`layer.add_variable` is deprecated and '\n"
     ]
    },
    {
     "name": "stdout",
     "output_type": "stream",
     "text": [
      "Row No =  91\n",
      "Row No =  92\n",
      "Row No =  93\n",
      "Row No =  94\n",
      "Row No =  95\n",
      "Row No =  96\n",
      "Row No =  97\n",
      "Row No =  98\n",
      "Row No =  99\n",
      "fileCunt No =  10\n",
      "Row No =  100\n"
     ]
    },
    {
     "name": "stderr",
     "output_type": "stream",
     "text": [
      "C:\\Users\\CHING TING\\anaconda3\\lib\\site-packages\\tensorflow\\python\\keras\\layers\\legacy_rnn\\rnn_cell_impl.py:909: UserWarning: `tf.nn.rnn_cell.LSTMCell` is deprecated and will be removed in a future version. This class is equivalent as `tf.keras.layers.LSTMCell`, and will be replaced by that in Tensorflow 2.0.\n",
      "  warnings.warn(\"`tf.nn.rnn_cell.LSTMCell` is deprecated and will be \"\n",
      "C:\\Users\\CHING TING\\anaconda3\\lib\\site-packages\\tensorflow\\python\\keras\\engine\\base_layer_v1.py:1700: UserWarning: `layer.add_variable` is deprecated and will be removed in a future version. Please use `layer.add_weight` method instead.\n",
      "  warnings.warn('`layer.add_variable` is deprecated and '\n"
     ]
    },
    {
     "name": "stdout",
     "output_type": "stream",
     "text": [
      "Row No =  101\n",
      "Row No =  102\n",
      "Row No =  103\n",
      "Row No =  104\n",
      "Row No =  105\n",
      "Row No =  106\n",
      "Row No =  107\n",
      "Row No =  108\n",
      "Row No =  109\n",
      "fileCunt No =  11\n",
      "Row No =  110\n"
     ]
    },
    {
     "name": "stderr",
     "output_type": "stream",
     "text": [
      "C:\\Users\\CHING TING\\anaconda3\\lib\\site-packages\\tensorflow\\python\\keras\\layers\\legacy_rnn\\rnn_cell_impl.py:909: UserWarning: `tf.nn.rnn_cell.LSTMCell` is deprecated and will be removed in a future version. This class is equivalent as `tf.keras.layers.LSTMCell`, and will be replaced by that in Tensorflow 2.0.\n",
      "  warnings.warn(\"`tf.nn.rnn_cell.LSTMCell` is deprecated and will be \"\n",
      "C:\\Users\\CHING TING\\anaconda3\\lib\\site-packages\\tensorflow\\python\\keras\\engine\\base_layer_v1.py:1700: UserWarning: `layer.add_variable` is deprecated and will be removed in a future version. Please use `layer.add_weight` method instead.\n",
      "  warnings.warn('`layer.add_variable` is deprecated and '\n"
     ]
    },
    {
     "name": "stdout",
     "output_type": "stream",
     "text": [
      "Row No =  111\n",
      "Row No =  112\n",
      "Row No =  113\n",
      "Row No =  114\n",
      "Row No =  115\n",
      "Row No =  116\n",
      "Row No =  117\n",
      "Row No =  118\n",
      "Row No =  119\n",
      "fileCunt No =  12\n",
      "Row No =  120\n"
     ]
    },
    {
     "name": "stderr",
     "output_type": "stream",
     "text": [
      "C:\\Users\\CHING TING\\anaconda3\\lib\\site-packages\\tensorflow\\python\\keras\\layers\\legacy_rnn\\rnn_cell_impl.py:909: UserWarning: `tf.nn.rnn_cell.LSTMCell` is deprecated and will be removed in a future version. This class is equivalent as `tf.keras.layers.LSTMCell`, and will be replaced by that in Tensorflow 2.0.\n",
      "  warnings.warn(\"`tf.nn.rnn_cell.LSTMCell` is deprecated and will be \"\n",
      "C:\\Users\\CHING TING\\anaconda3\\lib\\site-packages\\tensorflow\\python\\keras\\engine\\base_layer_v1.py:1700: UserWarning: `layer.add_variable` is deprecated and will be removed in a future version. Please use `layer.add_weight` method instead.\n",
      "  warnings.warn('`layer.add_variable` is deprecated and '\n"
     ]
    },
    {
     "name": "stdout",
     "output_type": "stream",
     "text": [
      "Row No =  121\n",
      "Row No =  122\n",
      "Row No =  123\n",
      "Row No =  124\n",
      "Row No =  125\n",
      "Row No =  126\n",
      "Row No =  127\n",
      "Row No =  128\n",
      "Row No =  129\n",
      "fileCunt No =  13\n",
      "Row No =  130\n"
     ]
    },
    {
     "name": "stderr",
     "output_type": "stream",
     "text": [
      "C:\\Users\\CHING TING\\anaconda3\\lib\\site-packages\\tensorflow\\python\\keras\\layers\\legacy_rnn\\rnn_cell_impl.py:909: UserWarning: `tf.nn.rnn_cell.LSTMCell` is deprecated and will be removed in a future version. This class is equivalent as `tf.keras.layers.LSTMCell`, and will be replaced by that in Tensorflow 2.0.\n",
      "  warnings.warn(\"`tf.nn.rnn_cell.LSTMCell` is deprecated and will be \"\n",
      "C:\\Users\\CHING TING\\anaconda3\\lib\\site-packages\\tensorflow\\python\\keras\\engine\\base_layer_v1.py:1700: UserWarning: `layer.add_variable` is deprecated and will be removed in a future version. Please use `layer.add_weight` method instead.\n",
      "  warnings.warn('`layer.add_variable` is deprecated and '\n"
     ]
    },
    {
     "name": "stdout",
     "output_type": "stream",
     "text": [
      "Row No =  131\n",
      "Row No =  132\n",
      "Row No =  133\n",
      "Row No =  134\n",
      "Row No =  135\n",
      "Row No =  136\n",
      "Row No =  137\n",
      "Row No =  138\n",
      "Row No =  139\n",
      "fileCunt No =  14\n",
      "Row No =  140\n"
     ]
    },
    {
     "name": "stderr",
     "output_type": "stream",
     "text": [
      "C:\\Users\\CHING TING\\anaconda3\\lib\\site-packages\\tensorflow\\python\\keras\\layers\\legacy_rnn\\rnn_cell_impl.py:909: UserWarning: `tf.nn.rnn_cell.LSTMCell` is deprecated and will be removed in a future version. This class is equivalent as `tf.keras.layers.LSTMCell`, and will be replaced by that in Tensorflow 2.0.\n",
      "  warnings.warn(\"`tf.nn.rnn_cell.LSTMCell` is deprecated and will be \"\n",
      "C:\\Users\\CHING TING\\anaconda3\\lib\\site-packages\\tensorflow\\python\\keras\\engine\\base_layer_v1.py:1700: UserWarning: `layer.add_variable` is deprecated and will be removed in a future version. Please use `layer.add_weight` method instead.\n",
      "  warnings.warn('`layer.add_variable` is deprecated and '\n"
     ]
    },
    {
     "name": "stdout",
     "output_type": "stream",
     "text": [
      "Row No =  141\n",
      "Row No =  142\n",
      "Row No =  143\n",
      "Row No =  144\n",
      "Row No =  145\n",
      "Row No =  146\n",
      "Row No =  147\n",
      "Row No =  148\n",
      "Row No =  149\n",
      "fileCunt No =  15\n",
      "Row No =  150\n"
     ]
    },
    {
     "name": "stderr",
     "output_type": "stream",
     "text": [
      "C:\\Users\\CHING TING\\anaconda3\\lib\\site-packages\\tensorflow\\python\\keras\\layers\\legacy_rnn\\rnn_cell_impl.py:909: UserWarning: `tf.nn.rnn_cell.LSTMCell` is deprecated and will be removed in a future version. This class is equivalent as `tf.keras.layers.LSTMCell`, and will be replaced by that in Tensorflow 2.0.\n",
      "  warnings.warn(\"`tf.nn.rnn_cell.LSTMCell` is deprecated and will be \"\n",
      "C:\\Users\\CHING TING\\anaconda3\\lib\\site-packages\\tensorflow\\python\\keras\\engine\\base_layer_v1.py:1700: UserWarning: `layer.add_variable` is deprecated and will be removed in a future version. Please use `layer.add_weight` method instead.\n",
      "  warnings.warn('`layer.add_variable` is deprecated and '\n"
     ]
    },
    {
     "name": "stdout",
     "output_type": "stream",
     "text": [
      "Row No =  151\n",
      "Row No =  152\n",
      "Row No =  153\n",
      "Row No =  154\n",
      "Row No =  155\n",
      "Row No =  156\n",
      "Row No =  157\n",
      "Row No =  158\n",
      "Row No =  159\n",
      "fileCunt No =  16\n",
      "Row No =  160\n"
     ]
    },
    {
     "name": "stderr",
     "output_type": "stream",
     "text": [
      "C:\\Users\\CHING TING\\anaconda3\\lib\\site-packages\\tensorflow\\python\\keras\\layers\\legacy_rnn\\rnn_cell_impl.py:909: UserWarning: `tf.nn.rnn_cell.LSTMCell` is deprecated and will be removed in a future version. This class is equivalent as `tf.keras.layers.LSTMCell`, and will be replaced by that in Tensorflow 2.0.\n",
      "  warnings.warn(\"`tf.nn.rnn_cell.LSTMCell` is deprecated and will be \"\n",
      "C:\\Users\\CHING TING\\anaconda3\\lib\\site-packages\\tensorflow\\python\\keras\\engine\\base_layer_v1.py:1700: UserWarning: `layer.add_variable` is deprecated and will be removed in a future version. Please use `layer.add_weight` method instead.\n",
      "  warnings.warn('`layer.add_variable` is deprecated and '\n"
     ]
    },
    {
     "name": "stdout",
     "output_type": "stream",
     "text": [
      "Row No =  161\n",
      "Row No =  162\n",
      "Row No =  163\n",
      "Row No =  164\n",
      "Row No =  165\n",
      "Row No =  166\n",
      "Row No =  167\n",
      "Row No =  168\n",
      "Row No =  169\n",
      "fileCunt No =  17\n",
      "Row No =  170\n"
     ]
    },
    {
     "name": "stderr",
     "output_type": "stream",
     "text": [
      "C:\\Users\\CHING TING\\anaconda3\\lib\\site-packages\\tensorflow\\python\\keras\\layers\\legacy_rnn\\rnn_cell_impl.py:909: UserWarning: `tf.nn.rnn_cell.LSTMCell` is deprecated and will be removed in a future version. This class is equivalent as `tf.keras.layers.LSTMCell`, and will be replaced by that in Tensorflow 2.0.\n",
      "  warnings.warn(\"`tf.nn.rnn_cell.LSTMCell` is deprecated and will be \"\n",
      "C:\\Users\\CHING TING\\anaconda3\\lib\\site-packages\\tensorflow\\python\\keras\\engine\\base_layer_v1.py:1700: UserWarning: `layer.add_variable` is deprecated and will be removed in a future version. Please use `layer.add_weight` method instead.\n",
      "  warnings.warn('`layer.add_variable` is deprecated and '\n"
     ]
    },
    {
     "name": "stdout",
     "output_type": "stream",
     "text": [
      "Row No =  171\n",
      "Row No =  172\n",
      "Row No =  173\n",
      "Row No =  174\n",
      "Row No =  175\n",
      "Row No =  176\n",
      "Row No =  177\n",
      "Row No =  178\n",
      "Row No =  179\n",
      "fileCunt No =  18\n",
      "Row No =  180\n"
     ]
    },
    {
     "name": "stderr",
     "output_type": "stream",
     "text": [
      "C:\\Users\\CHING TING\\anaconda3\\lib\\site-packages\\tensorflow\\python\\keras\\layers\\legacy_rnn\\rnn_cell_impl.py:909: UserWarning: `tf.nn.rnn_cell.LSTMCell` is deprecated and will be removed in a future version. This class is equivalent as `tf.keras.layers.LSTMCell`, and will be replaced by that in Tensorflow 2.0.\n",
      "  warnings.warn(\"`tf.nn.rnn_cell.LSTMCell` is deprecated and will be \"\n",
      "C:\\Users\\CHING TING\\anaconda3\\lib\\site-packages\\tensorflow\\python\\keras\\engine\\base_layer_v1.py:1700: UserWarning: `layer.add_variable` is deprecated and will be removed in a future version. Please use `layer.add_weight` method instead.\n",
      "  warnings.warn('`layer.add_variable` is deprecated and '\n"
     ]
    },
    {
     "name": "stdout",
     "output_type": "stream",
     "text": [
      "Row No =  181\n",
      "Row No =  182\n",
      "Row No =  183\n",
      "Row No =  184\n",
      "Row No =  185\n",
      "Row No =  186\n",
      "Row No =  187\n",
      "Row No =  188\n",
      "Row No =  189\n",
      "fileCunt No =  19\n",
      "Row No =  190\n"
     ]
    },
    {
     "name": "stderr",
     "output_type": "stream",
     "text": [
      "C:\\Users\\CHING TING\\anaconda3\\lib\\site-packages\\tensorflow\\python\\keras\\layers\\legacy_rnn\\rnn_cell_impl.py:909: UserWarning: `tf.nn.rnn_cell.LSTMCell` is deprecated and will be removed in a future version. This class is equivalent as `tf.keras.layers.LSTMCell`, and will be replaced by that in Tensorflow 2.0.\n",
      "  warnings.warn(\"`tf.nn.rnn_cell.LSTMCell` is deprecated and will be \"\n",
      "C:\\Users\\CHING TING\\anaconda3\\lib\\site-packages\\tensorflow\\python\\keras\\engine\\base_layer_v1.py:1700: UserWarning: `layer.add_variable` is deprecated and will be removed in a future version. Please use `layer.add_weight` method instead.\n",
      "  warnings.warn('`layer.add_variable` is deprecated and '\n"
     ]
    },
    {
     "name": "stdout",
     "output_type": "stream",
     "text": [
      "Row No =  191\n",
      "Row No =  192\n",
      "Row No =  193\n",
      "Row No =  194\n",
      "Row No =  195\n",
      "Row No =  196\n",
      "Row No =  197\n",
      "Row No =  198\n",
      "Row No =  199\n",
      "fileCunt No =  20\n",
      "Row No =  200\n"
     ]
    },
    {
     "name": "stderr",
     "output_type": "stream",
     "text": [
      "C:\\Users\\CHING TING\\anaconda3\\lib\\site-packages\\tensorflow\\python\\keras\\layers\\legacy_rnn\\rnn_cell_impl.py:909: UserWarning: `tf.nn.rnn_cell.LSTMCell` is deprecated and will be removed in a future version. This class is equivalent as `tf.keras.layers.LSTMCell`, and will be replaced by that in Tensorflow 2.0.\n",
      "  warnings.warn(\"`tf.nn.rnn_cell.LSTMCell` is deprecated and will be \"\n",
      "C:\\Users\\CHING TING\\anaconda3\\lib\\site-packages\\tensorflow\\python\\keras\\engine\\base_layer_v1.py:1700: UserWarning: `layer.add_variable` is deprecated and will be removed in a future version. Please use `layer.add_weight` method instead.\n",
      "  warnings.warn('`layer.add_variable` is deprecated and '\n"
     ]
    },
    {
     "name": "stdout",
     "output_type": "stream",
     "text": [
      "Row No =  201\n",
      "Row No =  202\n",
      "Row No =  203\n",
      "Row No =  204\n",
      "Row No =  205\n",
      "Row No =  206\n",
      "Row No =  207\n",
      "Row No =  208\n",
      "Row No =  209\n",
      "fileCunt No =  21\n",
      "Row No =  210\n"
     ]
    },
    {
     "name": "stderr",
     "output_type": "stream",
     "text": [
      "C:\\Users\\CHING TING\\anaconda3\\lib\\site-packages\\tensorflow\\python\\keras\\layers\\legacy_rnn\\rnn_cell_impl.py:909: UserWarning: `tf.nn.rnn_cell.LSTMCell` is deprecated and will be removed in a future version. This class is equivalent as `tf.keras.layers.LSTMCell`, and will be replaced by that in Tensorflow 2.0.\n",
      "  warnings.warn(\"`tf.nn.rnn_cell.LSTMCell` is deprecated and will be \"\n",
      "C:\\Users\\CHING TING\\anaconda3\\lib\\site-packages\\tensorflow\\python\\keras\\engine\\base_layer_v1.py:1700: UserWarning: `layer.add_variable` is deprecated and will be removed in a future version. Please use `layer.add_weight` method instead.\n",
      "  warnings.warn('`layer.add_variable` is deprecated and '\n"
     ]
    },
    {
     "name": "stdout",
     "output_type": "stream",
     "text": [
      "Row No =  211\n",
      "Row No =  212\n",
      "Row No =  213\n",
      "Row No =  214\n",
      "Row No =  215\n",
      "Row No =  216\n",
      "Row No =  217\n",
      "Row No =  218\n",
      "Row No =  219\n",
      "fileCunt No =  22\n",
      "Row No =  220\n"
     ]
    },
    {
     "name": "stderr",
     "output_type": "stream",
     "text": [
      "C:\\Users\\CHING TING\\anaconda3\\lib\\site-packages\\tensorflow\\python\\keras\\layers\\legacy_rnn\\rnn_cell_impl.py:909: UserWarning: `tf.nn.rnn_cell.LSTMCell` is deprecated and will be removed in a future version. This class is equivalent as `tf.keras.layers.LSTMCell`, and will be replaced by that in Tensorflow 2.0.\n",
      "  warnings.warn(\"`tf.nn.rnn_cell.LSTMCell` is deprecated and will be \"\n",
      "C:\\Users\\CHING TING\\anaconda3\\lib\\site-packages\\tensorflow\\python\\keras\\engine\\base_layer_v1.py:1700: UserWarning: `layer.add_variable` is deprecated and will be removed in a future version. Please use `layer.add_weight` method instead.\n",
      "  warnings.warn('`layer.add_variable` is deprecated and '\n"
     ]
    },
    {
     "name": "stdout",
     "output_type": "stream",
     "text": [
      "Row No =  221\n",
      "Row No =  222\n",
      "Row No =  223\n",
      "Row No =  224\n",
      "Row No =  225\n",
      "Row No =  226\n",
      "Row No =  227\n",
      "Row No =  228\n",
      "Row No =  229\n",
      "fileCunt No =  23\n",
      "Row No =  230\n"
     ]
    },
    {
     "name": "stderr",
     "output_type": "stream",
     "text": [
      "C:\\Users\\CHING TING\\anaconda3\\lib\\site-packages\\tensorflow\\python\\keras\\layers\\legacy_rnn\\rnn_cell_impl.py:909: UserWarning: `tf.nn.rnn_cell.LSTMCell` is deprecated and will be removed in a future version. This class is equivalent as `tf.keras.layers.LSTMCell`, and will be replaced by that in Tensorflow 2.0.\n",
      "  warnings.warn(\"`tf.nn.rnn_cell.LSTMCell` is deprecated and will be \"\n",
      "C:\\Users\\CHING TING\\anaconda3\\lib\\site-packages\\tensorflow\\python\\keras\\engine\\base_layer_v1.py:1700: UserWarning: `layer.add_variable` is deprecated and will be removed in a future version. Please use `layer.add_weight` method instead.\n",
      "  warnings.warn('`layer.add_variable` is deprecated and '\n"
     ]
    },
    {
     "name": "stdout",
     "output_type": "stream",
     "text": [
      "Row No =  231\n",
      "Row No =  232\n",
      "Row No =  233\n",
      "Row No =  234\n",
      "Row No =  235\n",
      "Row No =  236\n",
      "Row No =  237\n",
      "Row No =  238\n",
      "Row No =  239\n",
      "fileCunt No =  24\n",
      "Row No =  240\n"
     ]
    },
    {
     "name": "stderr",
     "output_type": "stream",
     "text": [
      "C:\\Users\\CHING TING\\anaconda3\\lib\\site-packages\\tensorflow\\python\\keras\\layers\\legacy_rnn\\rnn_cell_impl.py:909: UserWarning: `tf.nn.rnn_cell.LSTMCell` is deprecated and will be removed in a future version. This class is equivalent as `tf.keras.layers.LSTMCell`, and will be replaced by that in Tensorflow 2.0.\n",
      "  warnings.warn(\"`tf.nn.rnn_cell.LSTMCell` is deprecated and will be \"\n",
      "C:\\Users\\CHING TING\\anaconda3\\lib\\site-packages\\tensorflow\\python\\keras\\engine\\base_layer_v1.py:1700: UserWarning: `layer.add_variable` is deprecated and will be removed in a future version. Please use `layer.add_weight` method instead.\n",
      "  warnings.warn('`layer.add_variable` is deprecated and '\n"
     ]
    },
    {
     "name": "stdout",
     "output_type": "stream",
     "text": [
      "Row No =  241\n",
      "Row No =  242\n",
      "Row No =  243\n",
      "Row No =  244\n",
      "Row No =  245\n",
      "Row No =  246\n",
      "Row No =  247\n",
      "Row No =  248\n",
      "Row No =  249\n",
      "fileCunt No =  25\n",
      "Row No =  250\n"
     ]
    },
    {
     "name": "stderr",
     "output_type": "stream",
     "text": [
      "C:\\Users\\CHING TING\\anaconda3\\lib\\site-packages\\tensorflow\\python\\keras\\layers\\legacy_rnn\\rnn_cell_impl.py:909: UserWarning: `tf.nn.rnn_cell.LSTMCell` is deprecated and will be removed in a future version. This class is equivalent as `tf.keras.layers.LSTMCell`, and will be replaced by that in Tensorflow 2.0.\n",
      "  warnings.warn(\"`tf.nn.rnn_cell.LSTMCell` is deprecated and will be \"\n",
      "C:\\Users\\CHING TING\\anaconda3\\lib\\site-packages\\tensorflow\\python\\keras\\engine\\base_layer_v1.py:1700: UserWarning: `layer.add_variable` is deprecated and will be removed in a future version. Please use `layer.add_weight` method instead.\n",
      "  warnings.warn('`layer.add_variable` is deprecated and '\n"
     ]
    },
    {
     "name": "stdout",
     "output_type": "stream",
     "text": [
      "Row No =  251\n",
      "Row No =  252\n",
      "Row No =  253\n",
      "Row No =  254\n",
      "Row No =  255\n",
      "Row No =  256\n",
      "Row No =  257\n",
      "Row No =  258\n",
      "Row No =  259\n",
      "fileCunt No =  26\n",
      "Row No =  260\n"
     ]
    },
    {
     "name": "stderr",
     "output_type": "stream",
     "text": [
      "C:\\Users\\CHING TING\\anaconda3\\lib\\site-packages\\tensorflow\\python\\keras\\layers\\legacy_rnn\\rnn_cell_impl.py:909: UserWarning: `tf.nn.rnn_cell.LSTMCell` is deprecated and will be removed in a future version. This class is equivalent as `tf.keras.layers.LSTMCell`, and will be replaced by that in Tensorflow 2.0.\n",
      "  warnings.warn(\"`tf.nn.rnn_cell.LSTMCell` is deprecated and will be \"\n",
      "C:\\Users\\CHING TING\\anaconda3\\lib\\site-packages\\tensorflow\\python\\keras\\engine\\base_layer_v1.py:1700: UserWarning: `layer.add_variable` is deprecated and will be removed in a future version. Please use `layer.add_weight` method instead.\n",
      "  warnings.warn('`layer.add_variable` is deprecated and '\n"
     ]
    },
    {
     "name": "stdout",
     "output_type": "stream",
     "text": [
      "Row No =  261\n",
      "Row No =  262\n",
      "Row No =  263\n",
      "Row No =  264\n",
      "Row No =  265\n",
      "Row No =  266\n",
      "Row No =  267\n",
      "Row No =  268\n",
      "Row No =  269\n",
      "fileCunt No =  27\n",
      "Row No =  270\n"
     ]
    },
    {
     "name": "stderr",
     "output_type": "stream",
     "text": [
      "C:\\Users\\CHING TING\\anaconda3\\lib\\site-packages\\tensorflow\\python\\keras\\layers\\legacy_rnn\\rnn_cell_impl.py:909: UserWarning: `tf.nn.rnn_cell.LSTMCell` is deprecated and will be removed in a future version. This class is equivalent as `tf.keras.layers.LSTMCell`, and will be replaced by that in Tensorflow 2.0.\n",
      "  warnings.warn(\"`tf.nn.rnn_cell.LSTMCell` is deprecated and will be \"\n",
      "C:\\Users\\CHING TING\\anaconda3\\lib\\site-packages\\tensorflow\\python\\keras\\engine\\base_layer_v1.py:1700: UserWarning: `layer.add_variable` is deprecated and will be removed in a future version. Please use `layer.add_weight` method instead.\n",
      "  warnings.warn('`layer.add_variable` is deprecated and '\n"
     ]
    },
    {
     "name": "stdout",
     "output_type": "stream",
     "text": [
      "Row No =  271\n",
      "Row No =  272\n",
      "Row No =  273\n",
      "Row No =  274\n",
      "Row No =  275\n",
      "Row No =  276\n",
      "Row No =  277\n",
      "Row No =  278\n",
      "Row No =  279\n",
      "fileCunt No =  28\n",
      "Row No =  280\n"
     ]
    },
    {
     "name": "stderr",
     "output_type": "stream",
     "text": [
      "C:\\Users\\CHING TING\\anaconda3\\lib\\site-packages\\tensorflow\\python\\keras\\layers\\legacy_rnn\\rnn_cell_impl.py:909: UserWarning: `tf.nn.rnn_cell.LSTMCell` is deprecated and will be removed in a future version. This class is equivalent as `tf.keras.layers.LSTMCell`, and will be replaced by that in Tensorflow 2.0.\n",
      "  warnings.warn(\"`tf.nn.rnn_cell.LSTMCell` is deprecated and will be \"\n",
      "C:\\Users\\CHING TING\\anaconda3\\lib\\site-packages\\tensorflow\\python\\keras\\engine\\base_layer_v1.py:1700: UserWarning: `layer.add_variable` is deprecated and will be removed in a future version. Please use `layer.add_weight` method instead.\n",
      "  warnings.warn('`layer.add_variable` is deprecated and '\n"
     ]
    },
    {
     "name": "stdout",
     "output_type": "stream",
     "text": [
      "Row No =  281\n",
      "Row No =  282\n",
      "Row No =  283\n",
      "Row No =  284\n",
      "Row No =  285\n",
      "Row No =  286\n",
      "Row No =  287\n",
      "Row No =  288\n",
      "Row No =  289\n",
      "fileCunt No =  29\n",
      "Row No =  290\n"
     ]
    },
    {
     "name": "stderr",
     "output_type": "stream",
     "text": [
      "C:\\Users\\CHING TING\\anaconda3\\lib\\site-packages\\tensorflow\\python\\keras\\layers\\legacy_rnn\\rnn_cell_impl.py:909: UserWarning: `tf.nn.rnn_cell.LSTMCell` is deprecated and will be removed in a future version. This class is equivalent as `tf.keras.layers.LSTMCell`, and will be replaced by that in Tensorflow 2.0.\n",
      "  warnings.warn(\"`tf.nn.rnn_cell.LSTMCell` is deprecated and will be \"\n",
      "C:\\Users\\CHING TING\\anaconda3\\lib\\site-packages\\tensorflow\\python\\keras\\engine\\base_layer_v1.py:1700: UserWarning: `layer.add_variable` is deprecated and will be removed in a future version. Please use `layer.add_weight` method instead.\n",
      "  warnings.warn('`layer.add_variable` is deprecated and '\n"
     ]
    },
    {
     "name": "stdout",
     "output_type": "stream",
     "text": [
      "Row No =  291\n",
      "Row No =  292\n",
      "Row No =  293\n",
      "Row No =  294\n",
      "Row No =  295\n",
      "Row No =  296\n",
      "Row No =  297\n",
      "Row No =  298\n",
      "Row No =  299\n",
      "fileCunt No =  30\n",
      "Row No =  300\n"
     ]
    },
    {
     "name": "stderr",
     "output_type": "stream",
     "text": [
      "C:\\Users\\CHING TING\\anaconda3\\lib\\site-packages\\tensorflow\\python\\keras\\layers\\legacy_rnn\\rnn_cell_impl.py:909: UserWarning: `tf.nn.rnn_cell.LSTMCell` is deprecated and will be removed in a future version. This class is equivalent as `tf.keras.layers.LSTMCell`, and will be replaced by that in Tensorflow 2.0.\n",
      "  warnings.warn(\"`tf.nn.rnn_cell.LSTMCell` is deprecated and will be \"\n",
      "C:\\Users\\CHING TING\\anaconda3\\lib\\site-packages\\tensorflow\\python\\keras\\engine\\base_layer_v1.py:1700: UserWarning: `layer.add_variable` is deprecated and will be removed in a future version. Please use `layer.add_weight` method instead.\n",
      "  warnings.warn('`layer.add_variable` is deprecated and '\n"
     ]
    },
    {
     "name": "stdout",
     "output_type": "stream",
     "text": [
      "Row No =  301\n",
      "Row No =  302\n",
      "Row No =  303\n",
      "Row No =  304\n",
      "Row No =  305\n",
      "Row No =  306\n",
      "Row No =  307\n",
      "Row No =  308\n",
      "Row No =  309\n",
      "fileCunt No =  31\n",
      "Row No =  310\n"
     ]
    },
    {
     "name": "stderr",
     "output_type": "stream",
     "text": [
      "C:\\Users\\CHING TING\\anaconda3\\lib\\site-packages\\tensorflow\\python\\keras\\layers\\legacy_rnn\\rnn_cell_impl.py:909: UserWarning: `tf.nn.rnn_cell.LSTMCell` is deprecated and will be removed in a future version. This class is equivalent as `tf.keras.layers.LSTMCell`, and will be replaced by that in Tensorflow 2.0.\n",
      "  warnings.warn(\"`tf.nn.rnn_cell.LSTMCell` is deprecated and will be \"\n",
      "C:\\Users\\CHING TING\\anaconda3\\lib\\site-packages\\tensorflow\\python\\keras\\engine\\base_layer_v1.py:1700: UserWarning: `layer.add_variable` is deprecated and will be removed in a future version. Please use `layer.add_weight` method instead.\n",
      "  warnings.warn('`layer.add_variable` is deprecated and '\n"
     ]
    },
    {
     "name": "stdout",
     "output_type": "stream",
     "text": [
      "Row No =  311\n",
      "Row No =  312\n",
      "Row No =  313\n",
      "Row No =  314\n",
      "Row No =  315\n",
      "Row No =  316\n",
      "Row No =  317\n",
      "Row No =  318\n",
      "Row No =  319\n",
      "fileCunt No =  32\n",
      "Row No =  320\n"
     ]
    },
    {
     "name": "stderr",
     "output_type": "stream",
     "text": [
      "C:\\Users\\CHING TING\\anaconda3\\lib\\site-packages\\tensorflow\\python\\keras\\layers\\legacy_rnn\\rnn_cell_impl.py:909: UserWarning: `tf.nn.rnn_cell.LSTMCell` is deprecated and will be removed in a future version. This class is equivalent as `tf.keras.layers.LSTMCell`, and will be replaced by that in Tensorflow 2.0.\n",
      "  warnings.warn(\"`tf.nn.rnn_cell.LSTMCell` is deprecated and will be \"\n",
      "C:\\Users\\CHING TING\\anaconda3\\lib\\site-packages\\tensorflow\\python\\keras\\engine\\base_layer_v1.py:1700: UserWarning: `layer.add_variable` is deprecated and will be removed in a future version. Please use `layer.add_weight` method instead.\n",
      "  warnings.warn('`layer.add_variable` is deprecated and '\n"
     ]
    },
    {
     "name": "stdout",
     "output_type": "stream",
     "text": [
      "Row No =  321\n",
      "Row No =  322\n",
      "Row No =  323\n",
      "Row No =  324\n",
      "Row No =  325\n",
      "Row No =  326\n",
      "Row No =  327\n",
      "Row No =  328\n",
      "Row No =  329\n",
      "fileCunt No =  33\n",
      "Row No =  330\n"
     ]
    },
    {
     "name": "stderr",
     "output_type": "stream",
     "text": [
      "C:\\Users\\CHING TING\\anaconda3\\lib\\site-packages\\tensorflow\\python\\keras\\layers\\legacy_rnn\\rnn_cell_impl.py:909: UserWarning: `tf.nn.rnn_cell.LSTMCell` is deprecated and will be removed in a future version. This class is equivalent as `tf.keras.layers.LSTMCell`, and will be replaced by that in Tensorflow 2.0.\n",
      "  warnings.warn(\"`tf.nn.rnn_cell.LSTMCell` is deprecated and will be \"\n",
      "C:\\Users\\CHING TING\\anaconda3\\lib\\site-packages\\tensorflow\\python\\keras\\engine\\base_layer_v1.py:1700: UserWarning: `layer.add_variable` is deprecated and will be removed in a future version. Please use `layer.add_weight` method instead.\n",
      "  warnings.warn('`layer.add_variable` is deprecated and '\n"
     ]
    },
    {
     "name": "stdout",
     "output_type": "stream",
     "text": [
      "Row No =  331\n",
      "Row No =  332\n",
      "Row No =  333\n",
      "Row No =  334\n",
      "Row No =  335\n",
      "Row No =  336\n",
      "Row No =  337\n",
      "Row No =  338\n",
      "Row No =  339\n",
      "fileCunt No =  34\n",
      "Row No =  340\n"
     ]
    },
    {
     "name": "stderr",
     "output_type": "stream",
     "text": [
      "C:\\Users\\CHING TING\\anaconda3\\lib\\site-packages\\tensorflow\\python\\keras\\layers\\legacy_rnn\\rnn_cell_impl.py:909: UserWarning: `tf.nn.rnn_cell.LSTMCell` is deprecated and will be removed in a future version. This class is equivalent as `tf.keras.layers.LSTMCell`, and will be replaced by that in Tensorflow 2.0.\n",
      "  warnings.warn(\"`tf.nn.rnn_cell.LSTMCell` is deprecated and will be \"\n",
      "C:\\Users\\CHING TING\\anaconda3\\lib\\site-packages\\tensorflow\\python\\keras\\engine\\base_layer_v1.py:1700: UserWarning: `layer.add_variable` is deprecated and will be removed in a future version. Please use `layer.add_weight` method instead.\n",
      "  warnings.warn('`layer.add_variable` is deprecated and '\n"
     ]
    },
    {
     "name": "stdout",
     "output_type": "stream",
     "text": [
      "Row No =  341\n",
      "Row No =  342\n",
      "Row No =  343\n",
      "Row No =  344\n",
      "Row No =  345\n",
      "Row No =  346\n",
      "Row No =  347\n",
      "Row No =  348\n",
      "Row No =  349\n",
      "fileCunt No =  35\n",
      "Row No =  350\n"
     ]
    },
    {
     "name": "stderr",
     "output_type": "stream",
     "text": [
      "C:\\Users\\CHING TING\\anaconda3\\lib\\site-packages\\tensorflow\\python\\keras\\layers\\legacy_rnn\\rnn_cell_impl.py:909: UserWarning: `tf.nn.rnn_cell.LSTMCell` is deprecated and will be removed in a future version. This class is equivalent as `tf.keras.layers.LSTMCell`, and will be replaced by that in Tensorflow 2.0.\n",
      "  warnings.warn(\"`tf.nn.rnn_cell.LSTMCell` is deprecated and will be \"\n",
      "C:\\Users\\CHING TING\\anaconda3\\lib\\site-packages\\tensorflow\\python\\keras\\engine\\base_layer_v1.py:1700: UserWarning: `layer.add_variable` is deprecated and will be removed in a future version. Please use `layer.add_weight` method instead.\n",
      "  warnings.warn('`layer.add_variable` is deprecated and '\n"
     ]
    },
    {
     "name": "stdout",
     "output_type": "stream",
     "text": [
      "Row No =  351\n",
      "Row No =  352\n",
      "Row No =  353\n",
      "Row No =  354\n",
      "Row No =  355\n",
      "Row No =  356\n",
      "Row No =  357\n",
      "Row No =  358\n",
      "Row No =  359\n",
      "fileCunt No =  36\n",
      "Row No =  360\n"
     ]
    },
    {
     "name": "stderr",
     "output_type": "stream",
     "text": [
      "C:\\Users\\CHING TING\\anaconda3\\lib\\site-packages\\tensorflow\\python\\keras\\layers\\legacy_rnn\\rnn_cell_impl.py:909: UserWarning: `tf.nn.rnn_cell.LSTMCell` is deprecated and will be removed in a future version. This class is equivalent as `tf.keras.layers.LSTMCell`, and will be replaced by that in Tensorflow 2.0.\n",
      "  warnings.warn(\"`tf.nn.rnn_cell.LSTMCell` is deprecated and will be \"\n",
      "C:\\Users\\CHING TING\\anaconda3\\lib\\site-packages\\tensorflow\\python\\keras\\engine\\base_layer_v1.py:1700: UserWarning: `layer.add_variable` is deprecated and will be removed in a future version. Please use `layer.add_weight` method instead.\n",
      "  warnings.warn('`layer.add_variable` is deprecated and '\n"
     ]
    },
    {
     "name": "stdout",
     "output_type": "stream",
     "text": [
      "Row No =  361\n",
      "Row No =  362\n",
      "Row No =  363\n",
      "Row No =  364\n",
      "Row No =  365\n",
      "Row No =  366\n",
      "Row No =  367\n",
      "Row No =  368\n",
      "Row No =  369\n",
      "fileCunt No =  37\n",
      "Row No =  370\n"
     ]
    },
    {
     "name": "stderr",
     "output_type": "stream",
     "text": [
      "C:\\Users\\CHING TING\\anaconda3\\lib\\site-packages\\tensorflow\\python\\keras\\layers\\legacy_rnn\\rnn_cell_impl.py:909: UserWarning: `tf.nn.rnn_cell.LSTMCell` is deprecated and will be removed in a future version. This class is equivalent as `tf.keras.layers.LSTMCell`, and will be replaced by that in Tensorflow 2.0.\n",
      "  warnings.warn(\"`tf.nn.rnn_cell.LSTMCell` is deprecated and will be \"\n",
      "C:\\Users\\CHING TING\\anaconda3\\lib\\site-packages\\tensorflow\\python\\keras\\engine\\base_layer_v1.py:1700: UserWarning: `layer.add_variable` is deprecated and will be removed in a future version. Please use `layer.add_weight` method instead.\n",
      "  warnings.warn('`layer.add_variable` is deprecated and '\n"
     ]
    },
    {
     "name": "stdout",
     "output_type": "stream",
     "text": [
      "Row No =  371\n",
      "Row No =  372\n",
      "Row No =  373\n",
      "Row No =  374\n",
      "Row No =  375\n",
      "Row No =  376\n",
      "Row No =  377\n",
      "Row No =  378\n",
      "Row No =  379\n",
      "fileCunt No =  38\n",
      "Row No =  380\n"
     ]
    },
    {
     "name": "stderr",
     "output_type": "stream",
     "text": [
      "C:\\Users\\CHING TING\\anaconda3\\lib\\site-packages\\tensorflow\\python\\keras\\layers\\legacy_rnn\\rnn_cell_impl.py:909: UserWarning: `tf.nn.rnn_cell.LSTMCell` is deprecated and will be removed in a future version. This class is equivalent as `tf.keras.layers.LSTMCell`, and will be replaced by that in Tensorflow 2.0.\n",
      "  warnings.warn(\"`tf.nn.rnn_cell.LSTMCell` is deprecated and will be \"\n",
      "C:\\Users\\CHING TING\\anaconda3\\lib\\site-packages\\tensorflow\\python\\keras\\engine\\base_layer_v1.py:1700: UserWarning: `layer.add_variable` is deprecated and will be removed in a future version. Please use `layer.add_weight` method instead.\n",
      "  warnings.warn('`layer.add_variable` is deprecated and '\n"
     ]
    },
    {
     "name": "stdout",
     "output_type": "stream",
     "text": [
      "Row No =  381\n",
      "Row No =  382\n",
      "Row No =  383\n",
      "Row No =  384\n",
      "Row No =  385\n",
      "Row No =  386\n",
      "Row No =  387\n",
      "Row No =  388\n",
      "Row No =  389\n",
      "fileCunt No =  39\n",
      "Row No =  390\n"
     ]
    },
    {
     "name": "stderr",
     "output_type": "stream",
     "text": [
      "C:\\Users\\CHING TING\\anaconda3\\lib\\site-packages\\tensorflow\\python\\keras\\layers\\legacy_rnn\\rnn_cell_impl.py:909: UserWarning: `tf.nn.rnn_cell.LSTMCell` is deprecated and will be removed in a future version. This class is equivalent as `tf.keras.layers.LSTMCell`, and will be replaced by that in Tensorflow 2.0.\n",
      "  warnings.warn(\"`tf.nn.rnn_cell.LSTMCell` is deprecated and will be \"\n",
      "C:\\Users\\CHING TING\\anaconda3\\lib\\site-packages\\tensorflow\\python\\keras\\engine\\base_layer_v1.py:1700: UserWarning: `layer.add_variable` is deprecated and will be removed in a future version. Please use `layer.add_weight` method instead.\n",
      "  warnings.warn('`layer.add_variable` is deprecated and '\n"
     ]
    },
    {
     "name": "stdout",
     "output_type": "stream",
     "text": [
      "Row No =  391\n",
      "Row No =  392\n",
      "Row No =  393\n",
      "Row No =  394\n",
      "Row No =  395\n",
      "Row No =  396\n",
      "Row No =  397\n",
      "Row No =  398\n",
      "Row No =  399\n",
      "fileCunt No =  40\n",
      "Row No =  400\n"
     ]
    },
    {
     "name": "stderr",
     "output_type": "stream",
     "text": [
      "C:\\Users\\CHING TING\\anaconda3\\lib\\site-packages\\tensorflow\\python\\keras\\layers\\legacy_rnn\\rnn_cell_impl.py:909: UserWarning: `tf.nn.rnn_cell.LSTMCell` is deprecated and will be removed in a future version. This class is equivalent as `tf.keras.layers.LSTMCell`, and will be replaced by that in Tensorflow 2.0.\n",
      "  warnings.warn(\"`tf.nn.rnn_cell.LSTMCell` is deprecated and will be \"\n",
      "C:\\Users\\CHING TING\\anaconda3\\lib\\site-packages\\tensorflow\\python\\keras\\engine\\base_layer_v1.py:1700: UserWarning: `layer.add_variable` is deprecated and will be removed in a future version. Please use `layer.add_weight` method instead.\n",
      "  warnings.warn('`layer.add_variable` is deprecated and '\n"
     ]
    },
    {
     "name": "stdout",
     "output_type": "stream",
     "text": [
      "Row No =  401\n",
      "Row No =  402\n",
      "Row No =  403\n",
      "Row No =  404\n",
      "Row No =  405\n",
      "Row No =  406\n",
      "Row No =  407\n",
      "Row No =  408\n",
      "Row No =  409\n",
      "fileCunt No =  41\n",
      "Row No =  410\n"
     ]
    },
    {
     "name": "stderr",
     "output_type": "stream",
     "text": [
      "C:\\Users\\CHING TING\\anaconda3\\lib\\site-packages\\tensorflow\\python\\keras\\layers\\legacy_rnn\\rnn_cell_impl.py:909: UserWarning: `tf.nn.rnn_cell.LSTMCell` is deprecated and will be removed in a future version. This class is equivalent as `tf.keras.layers.LSTMCell`, and will be replaced by that in Tensorflow 2.0.\n",
      "  warnings.warn(\"`tf.nn.rnn_cell.LSTMCell` is deprecated and will be \"\n",
      "C:\\Users\\CHING TING\\anaconda3\\lib\\site-packages\\tensorflow\\python\\keras\\engine\\base_layer_v1.py:1700: UserWarning: `layer.add_variable` is deprecated and will be removed in a future version. Please use `layer.add_weight` method instead.\n",
      "  warnings.warn('`layer.add_variable` is deprecated and '\n"
     ]
    },
    {
     "name": "stdout",
     "output_type": "stream",
     "text": [
      "Row No =  411\n",
      "Row No =  412\n",
      "Row No =  413\n",
      "Row No =  414\n",
      "Row No =  415\n",
      "Row No =  416\n",
      "Row No =  417\n",
      "Row No =  418\n",
      "Row No =  419\n",
      "fileCunt No =  42\n",
      "Row No =  420\n"
     ]
    },
    {
     "name": "stderr",
     "output_type": "stream",
     "text": [
      "C:\\Users\\CHING TING\\anaconda3\\lib\\site-packages\\tensorflow\\python\\keras\\layers\\legacy_rnn\\rnn_cell_impl.py:909: UserWarning: `tf.nn.rnn_cell.LSTMCell` is deprecated and will be removed in a future version. This class is equivalent as `tf.keras.layers.LSTMCell`, and will be replaced by that in Tensorflow 2.0.\n",
      "  warnings.warn(\"`tf.nn.rnn_cell.LSTMCell` is deprecated and will be \"\n",
      "C:\\Users\\CHING TING\\anaconda3\\lib\\site-packages\\tensorflow\\python\\keras\\engine\\base_layer_v1.py:1700: UserWarning: `layer.add_variable` is deprecated and will be removed in a future version. Please use `layer.add_weight` method instead.\n",
      "  warnings.warn('`layer.add_variable` is deprecated and '\n"
     ]
    },
    {
     "name": "stdout",
     "output_type": "stream",
     "text": [
      "Row No =  421\n",
      "Row No =  422\n",
      "Row No =  423\n",
      "Row No =  424\n",
      "Row No =  425\n",
      "Row No =  426\n",
      "Row No =  427\n",
      "Row No =  428\n",
      "Row No =  429\n",
      "fileCunt No =  43\n",
      "Row No =  430\n"
     ]
    },
    {
     "name": "stderr",
     "output_type": "stream",
     "text": [
      "C:\\Users\\CHING TING\\anaconda3\\lib\\site-packages\\tensorflow\\python\\keras\\layers\\legacy_rnn\\rnn_cell_impl.py:909: UserWarning: `tf.nn.rnn_cell.LSTMCell` is deprecated and will be removed in a future version. This class is equivalent as `tf.keras.layers.LSTMCell`, and will be replaced by that in Tensorflow 2.0.\n",
      "  warnings.warn(\"`tf.nn.rnn_cell.LSTMCell` is deprecated and will be \"\n",
      "C:\\Users\\CHING TING\\anaconda3\\lib\\site-packages\\tensorflow\\python\\keras\\engine\\base_layer_v1.py:1700: UserWarning: `layer.add_variable` is deprecated and will be removed in a future version. Please use `layer.add_weight` method instead.\n",
      "  warnings.warn('`layer.add_variable` is deprecated and '\n"
     ]
    },
    {
     "name": "stdout",
     "output_type": "stream",
     "text": [
      "Row No =  431\n",
      "Row No =  432\n",
      "Row No =  433\n",
      "Row No =  434\n",
      "Row No =  435\n",
      "Row No =  436\n",
      "Row No =  437\n",
      "Row No =  438\n",
      "Row No =  439\n",
      "fileCunt No =  44\n",
      "Row No =  440\n"
     ]
    },
    {
     "name": "stderr",
     "output_type": "stream",
     "text": [
      "C:\\Users\\CHING TING\\anaconda3\\lib\\site-packages\\tensorflow\\python\\keras\\layers\\legacy_rnn\\rnn_cell_impl.py:909: UserWarning: `tf.nn.rnn_cell.LSTMCell` is deprecated and will be removed in a future version. This class is equivalent as `tf.keras.layers.LSTMCell`, and will be replaced by that in Tensorflow 2.0.\n",
      "  warnings.warn(\"`tf.nn.rnn_cell.LSTMCell` is deprecated and will be \"\n",
      "C:\\Users\\CHING TING\\anaconda3\\lib\\site-packages\\tensorflow\\python\\keras\\engine\\base_layer_v1.py:1700: UserWarning: `layer.add_variable` is deprecated and will be removed in a future version. Please use `layer.add_weight` method instead.\n",
      "  warnings.warn('`layer.add_variable` is deprecated and '\n"
     ]
    },
    {
     "name": "stdout",
     "output_type": "stream",
     "text": [
      "Row No =  441\n",
      "Row No =  442\n",
      "Row No =  443\n",
      "Row No =  444\n",
      "Row No =  445\n",
      "Row No =  446\n",
      "Row No =  447\n",
      "Row No =  448\n",
      "Row No =  449\n",
      "fileCunt No =  45\n",
      "Row No =  450\n"
     ]
    },
    {
     "name": "stderr",
     "output_type": "stream",
     "text": [
      "C:\\Users\\CHING TING\\anaconda3\\lib\\site-packages\\tensorflow\\python\\keras\\layers\\legacy_rnn\\rnn_cell_impl.py:909: UserWarning: `tf.nn.rnn_cell.LSTMCell` is deprecated and will be removed in a future version. This class is equivalent as `tf.keras.layers.LSTMCell`, and will be replaced by that in Tensorflow 2.0.\n",
      "  warnings.warn(\"`tf.nn.rnn_cell.LSTMCell` is deprecated and will be \"\n",
      "C:\\Users\\CHING TING\\anaconda3\\lib\\site-packages\\tensorflow\\python\\keras\\engine\\base_layer_v1.py:1700: UserWarning: `layer.add_variable` is deprecated and will be removed in a future version. Please use `layer.add_weight` method instead.\n",
      "  warnings.warn('`layer.add_variable` is deprecated and '\n"
     ]
    },
    {
     "name": "stdout",
     "output_type": "stream",
     "text": [
      "Row No =  451\n",
      "Row No =  452\n",
      "Row No =  453\n",
      "Row No =  454\n",
      "Row No =  455\n",
      "Row No =  456\n",
      "Row No =  457\n",
      "Row No =  458\n",
      "Row No =  459\n",
      "fileCunt No =  46\n",
      "Row No =  460\n"
     ]
    },
    {
     "name": "stderr",
     "output_type": "stream",
     "text": [
      "C:\\Users\\CHING TING\\anaconda3\\lib\\site-packages\\tensorflow\\python\\keras\\layers\\legacy_rnn\\rnn_cell_impl.py:909: UserWarning: `tf.nn.rnn_cell.LSTMCell` is deprecated and will be removed in a future version. This class is equivalent as `tf.keras.layers.LSTMCell`, and will be replaced by that in Tensorflow 2.0.\n",
      "  warnings.warn(\"`tf.nn.rnn_cell.LSTMCell` is deprecated and will be \"\n",
      "C:\\Users\\CHING TING\\anaconda3\\lib\\site-packages\\tensorflow\\python\\keras\\engine\\base_layer_v1.py:1700: UserWarning: `layer.add_variable` is deprecated and will be removed in a future version. Please use `layer.add_weight` method instead.\n",
      "  warnings.warn('`layer.add_variable` is deprecated and '\n"
     ]
    },
    {
     "name": "stdout",
     "output_type": "stream",
     "text": [
      "Row No =  461\n",
      "Row No =  462\n",
      "Row No =  463\n",
      "Row No =  464\n",
      "Row No =  465\n",
      "Row No =  466\n",
      "Row No =  467\n",
      "Row No =  468\n",
      "Row No =  469\n",
      "fileCunt No =  47\n",
      "Row No =  470\n"
     ]
    },
    {
     "name": "stderr",
     "output_type": "stream",
     "text": [
      "C:\\Users\\CHING TING\\anaconda3\\lib\\site-packages\\tensorflow\\python\\keras\\layers\\legacy_rnn\\rnn_cell_impl.py:909: UserWarning: `tf.nn.rnn_cell.LSTMCell` is deprecated and will be removed in a future version. This class is equivalent as `tf.keras.layers.LSTMCell`, and will be replaced by that in Tensorflow 2.0.\n",
      "  warnings.warn(\"`tf.nn.rnn_cell.LSTMCell` is deprecated and will be \"\n",
      "C:\\Users\\CHING TING\\anaconda3\\lib\\site-packages\\tensorflow\\python\\keras\\engine\\base_layer_v1.py:1700: UserWarning: `layer.add_variable` is deprecated and will be removed in a future version. Please use `layer.add_weight` method instead.\n",
      "  warnings.warn('`layer.add_variable` is deprecated and '\n"
     ]
    },
    {
     "name": "stdout",
     "output_type": "stream",
     "text": [
      "Row No =  471\n",
      "Row No =  472\n",
      "Row No =  473\n",
      "Row No =  474\n",
      "Row No =  475\n",
      "Row No =  476\n",
      "Row No =  477\n",
      "Row No =  478\n",
      "Row No =  479\n",
      "fileCunt No =  48\n",
      "Row No =  480\n"
     ]
    },
    {
     "name": "stderr",
     "output_type": "stream",
     "text": [
      "C:\\Users\\CHING TING\\anaconda3\\lib\\site-packages\\tensorflow\\python\\keras\\layers\\legacy_rnn\\rnn_cell_impl.py:909: UserWarning: `tf.nn.rnn_cell.LSTMCell` is deprecated and will be removed in a future version. This class is equivalent as `tf.keras.layers.LSTMCell`, and will be replaced by that in Tensorflow 2.0.\n",
      "  warnings.warn(\"`tf.nn.rnn_cell.LSTMCell` is deprecated and will be \"\n",
      "C:\\Users\\CHING TING\\anaconda3\\lib\\site-packages\\tensorflow\\python\\keras\\engine\\base_layer_v1.py:1700: UserWarning: `layer.add_variable` is deprecated and will be removed in a future version. Please use `layer.add_weight` method instead.\n",
      "  warnings.warn('`layer.add_variable` is deprecated and '\n"
     ]
    },
    {
     "name": "stdout",
     "output_type": "stream",
     "text": [
      "Row No =  481\n",
      "Row No =  482\n",
      "Row No =  483\n",
      "Row No =  484\n",
      "Row No =  485\n",
      "Row No =  486\n",
      "Row No =  487\n",
      "fileCunt No =  49\n",
      "=====================================================================\n",
      "Totle NER Files =  49\n"
     ]
    }
   ],
   "source": [
    "#逐筆傳遞欄位 \"text\"\n",
    "apple_text = apple[\"內容\"]\n",
    "print(\"內容 欄位筆數 = \",len(apple_text))\n",
    "print(\"------------------------------------------\")\n",
    "ls_class = list()\n",
    "ls_ner = list()\n",
    "fileCunt = 0\n",
    "rowCunt = 0\n",
    "for i in range(len(apple_text)):\n",
    "    rowCunt += 1\n",
    "    ls_dfRow = [apple_text[i]]\n",
    "    # print(\"ls_dfRow = \", ls_dfRow)\n",
    "    print(\"Row No = \",str(i))\n",
    "    entity_list = Extract_NER(ls_dfRow)\n",
    "    for j in range(len(entity_list[0])):\n",
    "        seg = entity_list[0].pop()\n",
    "        # print(\"seg = \",seg)\n",
    "        ls_class.append(seg[2])\n",
    "        ls_ner.append(seg[3])\n",
    "    #print(\"===========================================\")\n",
    "    #print(\"ls_class = \",ls_class)\n",
    "    #print(\"ls_ner = \",ls_ner)\n",
    "    # if i == 5 or rowCunt == 2:\n",
    "    if i == (len(apple_text)-1) or rowCunt == 10:\n",
    "        fileCunt += 1\n",
    "        extract_df = pd.DataFrame({'Class':ls_class, 'NER':ls_ner})\n",
    "        deDup_df = extract_df.drop_duplicates().copy()\n",
    "        del extract_df #去除重複\n",
    "        cate_df = deDup_df.loc[deDup_df['Class'].isin(['LOC','PERSON', 'ORG', 'LAW', 'EVENT','GPE','NORP'])].copy()\n",
    "        del deDup_df\n",
    "        filt_df = cate_df[cate_df['NER'].map(len) >= 2].copy()\n",
    "        del cate_df\n",
    "        NER_df = filt_df.sort_values(by=['Class']).copy()\n",
    "        del filt_df\n",
    "        #print(\"__________________________________________________________\")  \n",
    "        #print(NER_df)\n",
    "        print(\"fileCunt No = \",str(fileCunt))\n",
    "        NER_df.to_csv(r\"News Data\\News NER Out\\\\NewsNER870_\" + str(fileCunt)+ \".csv\")\n",
    "        #NER_df.to_csv(r\"ner out/NerTest_\" + str(fileCunt)+ \".csv\")\n",
    "        rowCunt = 0\n",
    "print(\"=====================================================================\")\n",
    "print(\"Totle NER Files = \",fileCunt)\n"
   ]
  },
  {
   "cell_type": "markdown",
   "metadata": {},
   "source": [
    "## 3. Integrate all csv files into single data frame"
   ]
  },
  {
   "cell_type": "code",
   "execution_count": 15,
   "metadata": {},
   "outputs": [
    {
     "name": "stdout",
     "output_type": "stream",
     "text": [
      "58255\n"
     ]
    },
    {
     "data": {
      "text/html": [
       "<div>\n",
       "<style scoped>\n",
       "    .dataframe tbody tr th:only-of-type {\n",
       "        vertical-align: middle;\n",
       "    }\n",
       "\n",
       "    .dataframe tbody tr th {\n",
       "        vertical-align: top;\n",
       "    }\n",
       "\n",
       "    .dataframe thead th {\n",
       "        text-align: right;\n",
       "    }\n",
       "</style>\n",
       "<table border=\"1\" class=\"dataframe\">\n",
       "  <thead>\n",
       "    <tr style=\"text-align: right;\">\n",
       "      <th></th>\n",
       "      <th>NER</th>\n",
       "    </tr>\n",
       "    <tr>\n",
       "      <th>Class</th>\n",
       "      <th></th>\n",
       "    </tr>\n",
       "  </thead>\n",
       "  <tbody>\n",
       "    <tr>\n",
       "      <th>EVENT</th>\n",
       "      <td>1096</td>\n",
       "    </tr>\n",
       "    <tr>\n",
       "      <th>GPE</th>\n",
       "      <td>7997</td>\n",
       "    </tr>\n",
       "    <tr>\n",
       "      <th>LAW</th>\n",
       "      <td>1260</td>\n",
       "    </tr>\n",
       "    <tr>\n",
       "      <th>LOC</th>\n",
       "      <td>4208</td>\n",
       "    </tr>\n",
       "    <tr>\n",
       "      <th>NORP</th>\n",
       "      <td>546</td>\n",
       "    </tr>\n",
       "    <tr>\n",
       "      <th>ORG</th>\n",
       "      <td>20901</td>\n",
       "    </tr>\n",
       "    <tr>\n",
       "      <th>PERSON</th>\n",
       "      <td>22247</td>\n",
       "    </tr>\n",
       "  </tbody>\n",
       "</table>\n",
       "</div>"
      ],
      "text/plain": [
       "          NER\n",
       "Class        \n",
       "EVENT    1096\n",
       "GPE      7997\n",
       "LAW      1260\n",
       "LOC      4208\n",
       "NORP      546\n",
       "ORG     20901\n",
       "PERSON  22247"
      ]
     },
     "execution_count": 15,
     "metadata": {},
     "output_type": "execute_result"
    }
   ],
   "source": [
    "import glob\n",
    "# import pandas as pd\n",
    "\n",
    "path = r'News Data\\News NER OUT'\n",
    "#path = r'ner out'\n",
    "allFiles = glob.glob(\"{}/*.csv\".format(path))\n",
    "li = []\n",
    "for filename in allFiles:\n",
    "    df = pd.read_csv(filename, index_col=0, header=0)\n",
    "    li.append(df)\n",
    "\n",
    "nerFrame = pd.concat(li, axis=0, ignore_index=True)\n",
    "print(len(nerFrame))\n",
    "nerFrame.groupby('Class').count()"
   ]
  },
  {
   "cell_type": "markdown",
   "metadata": {},
   "source": [
    "## 4. Drop duplicates, group by class and write into csv file "
   ]
  },
  {
   "cell_type": "code",
   "execution_count": 16,
   "metadata": {},
   "outputs": [
    {
     "name": "stdout",
     "output_type": "stream",
     "text": [
      "2061\n"
     ]
    },
    {
     "data": {
      "text/html": [
       "<div>\n",
       "<style scoped>\n",
       "    .dataframe tbody tr th:only-of-type {\n",
       "        vertical-align: middle;\n",
       "    }\n",
       "\n",
       "    .dataframe tbody tr th {\n",
       "        vertical-align: top;\n",
       "    }\n",
       "\n",
       "    .dataframe thead th {\n",
       "        text-align: right;\n",
       "    }\n",
       "</style>\n",
       "<table border=\"1\" class=\"dataframe\">\n",
       "  <thead>\n",
       "    <tr style=\"text-align: right;\">\n",
       "      <th></th>\n",
       "      <th>NER</th>\n",
       "    </tr>\n",
       "    <tr>\n",
       "      <th>Class</th>\n",
       "      <th></th>\n",
       "    </tr>\n",
       "  </thead>\n",
       "  <tbody>\n",
       "    <tr>\n",
       "      <th>EVENT</th>\n",
       "      <td>44</td>\n",
       "    </tr>\n",
       "    <tr>\n",
       "      <th>GPE</th>\n",
       "      <td>281</td>\n",
       "    </tr>\n",
       "    <tr>\n",
       "      <th>LAW</th>\n",
       "      <td>49</td>\n",
       "    </tr>\n",
       "    <tr>\n",
       "      <th>LOC</th>\n",
       "      <td>167</td>\n",
       "    </tr>\n",
       "    <tr>\n",
       "      <th>NORP</th>\n",
       "      <td>25</td>\n",
       "    </tr>\n",
       "    <tr>\n",
       "      <th>ORG</th>\n",
       "      <td>736</td>\n",
       "    </tr>\n",
       "    <tr>\n",
       "      <th>PERSON</th>\n",
       "      <td>759</td>\n",
       "    </tr>\n",
       "  </tbody>\n",
       "</table>\n",
       "</div>"
      ],
      "text/plain": [
       "        NER\n",
       "Class      \n",
       "EVENT    44\n",
       "GPE     281\n",
       "LAW      49\n",
       "LOC     167\n",
       "NORP     25\n",
       "ORG     736\n",
       "PERSON  759"
      ]
     },
     "execution_count": 16,
     "metadata": {},
     "output_type": "execute_result"
    }
   ],
   "source": [
    "ddFrame = nerFrame.drop_duplicates().copy()\n",
    "print(len(ddFrame))\n",
    "ddFrame.groupby('Class').count()"
   ]
  },
  {
   "cell_type": "code",
   "execution_count": 18,
   "metadata": {},
   "outputs": [],
   "source": [
    "ddFrame.sort_values(by=['Class']).to_csv(r\"News Data\\News NER OUT\\\\NewsNER.csv\")\n",
    "#ddFrame.sort_values(by=['Class']).to_csv(r\"ner out/NerTest.csv\")"
   ]
  }
 ],
 "metadata": {
  "kernelspec": {
   "display_name": "Python 3",
   "language": "python",
   "name": "python3"
  },
  "language_info": {
   "codemirror_mode": {
    "name": "ipython",
    "version": 3
   },
   "file_extension": ".py",
   "mimetype": "text/x-python",
   "name": "python",
   "nbconvert_exporter": "python",
   "pygments_lexer": "ipython3",
   "version": "3.8.5"
  }
 },
 "nbformat": 4,
 "nbformat_minor": 2
}
